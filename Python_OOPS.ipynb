{
  "nbformat": 4,
  "nbformat_minor": 0,
  "metadata": {
    "colab": {
      "provenance": [],
      "authorship_tag": "ABX9TyPKsxdCJRc/nyKUduoZnZ7d",
      "include_colab_link": true
    },
    "kernelspec": {
      "name": "python3",
      "display_name": "Python 3"
    },
    "language_info": {
      "name": "python"
    }
  },
  "cells": [
    {
      "cell_type": "markdown",
      "metadata": {
        "id": "view-in-github",
        "colab_type": "text"
      },
      "source": [
        "<a href=\"https://colab.research.google.com/github/23ME30056/PythonOOPS/blob/main/Python_OOPS.ipynb\" target=\"_parent\"><img src=\"https://colab.research.google.com/assets/colab-badge.svg\" alt=\"Open In Colab\"/></a>"
      ]
    },
    {
      "cell_type": "markdown",
      "source": [
        "# Python Class\n",
        "A class is a collection of objects. Classes are blueprints for creating objects. A class defines a set of attributes and methods that the created objects (instances) can have.\n",
        "\n",
        "Some points on Python class:  \n",
        "\n",
        "Classes are created by keyword class.\n",
        "Attributes are the variables that belong to a class.\n",
        "Attributes are always public and can be accessed using the dot (.) operator. Example: Myclass.Myattribute"
      ],
      "metadata": {
        "id": "xXV2arCWO9JI"
      }
    },
    {
      "cell_type": "code",
      "execution_count": null,
      "metadata": {
        "id": "M7vOmgbPNngp"
      },
      "outputs": [],
      "source": [
        "class Enemies:\n",
        "    species = \"Nevron\"  # class attribute\n",
        "\n",
        "    def __init__(self, name, age): # method for initialization\n",
        "        self.name = name  # instance attributes\n",
        "        self.age = age\n",
        "\n",
        "    def display_name(self):\n",
        "       print(f\"Enemies name is {self.name}\")\n"
      ]
    },
    {
      "cell_type": "markdown",
      "source": [
        "# Python Objects\n",
        "An Object is an instance of a Class. It represents a specific implementation of the class and holds its own data.\n",
        "\n",
        "An object consists of:\n",
        "\n",
        "State: It is represented by the attributes and reflects the properties of an object.\n",
        "Behavior: It is represented by the methods of an object and reflects the response of an object to other objects.\n",
        "Identity: It gives a unique name to an object and enables one object to interact with other objects.\n",
        "Creating Object\n",
        "Creating an object in Python involves instantiating a class to create a new instance of that class. This process is also referred to as object instantiation. *italicized text*"
      ],
      "metadata": {
        "id": "MFcu552OO3dB"
      }
    },
    {
      "cell_type": "code",
      "source": [
        "bubuv1 = Enemies(\"Clair\", 104)\n",
        "print(bubuv1.name)\n",
        "print(bubuv1.age)\n",
        "print(bubuv1.species)"
      ],
      "metadata": {
        "colab": {
          "base_uri": "https://localhost:8080/"
        },
        "id": "7KMYgOtDQFjI",
        "outputId": "e327cfcd-2655-4b15-e566-dfd320256641"
      },
      "execution_count": null,
      "outputs": [
        {
          "output_type": "stream",
          "name": "stdout",
          "text": [
            "Clair\n",
            "104\n",
            "Nevron\n"
          ]
        }
      ]
    },
    {
      "cell_type": "markdown",
      "source": [
        "# Self Parameter``\n",
        "self parameter is a reference to the current instance of the class. It allows us to access the attributes and methods of the object."
      ],
      "metadata": {
        "id": "6WGe6zeeSf6K"
      }
    },
    {
      "cell_type": "code",
      "source": [
        "print(Enemies.species)"
      ],
      "metadata": {
        "colab": {
          "base_uri": "https://localhost:8080/"
        },
        "id": "_qUyyM1PSTpo",
        "outputId": "2ec82c23-67ff-42a2-c6bc-31539fda688f"
      },
      "execution_count": null,
      "outputs": [
        {
          "output_type": "stream",
          "name": "stdout",
          "text": [
            "Nevron\n"
          ]
        }
      ]
    },
    {
      "cell_type": "markdown",
      "source": [
        "# **Class Variables**\n",
        "\n",
        "These are the variables that are shared across all instances of a class. It is defined at the class level, outside any methods. All objects of the class share the same value for a class variable unless explicitly overridden in an object.\n",
        "\n",
        "# **Instance Variables**\n",
        "\n",
        "Variables that are unique to each instance (object) of a class. These are defined within the __init__ method or other instance methods. Each object maintains its own copy of instance variables, independent of other objects."
      ],
      "metadata": {
        "id": "CSCNbmdaTfIn"
      }
    },
    {
      "cell_type": "code",
      "source": [
        "bubuv2 = Enemies(\"Obsure\",108)\n",
        "print(bubuv2.age)\n",
        "bubuv2.name = \"Renoir\"\n",
        "bubuv2.species = \"Humans\"\n"
      ],
      "metadata": {
        "colab": {
          "base_uri": "https://localhost:8080/"
        },
        "id": "lTfRzb-TUKyn",
        "outputId": "92184485-4446-4eab-ca3b-f62d727d356f"
      },
      "execution_count": null,
      "outputs": [
        {
          "output_type": "stream",
          "name": "stdout",
          "text": [
            "108\n"
          ]
        }
      ]
    },
    {
      "cell_type": "code",
      "source": [
        "print(bubuv2.name)\n",
        "print(bubuv2.age)\n",
        "print(bubuv2.species)\n",
        "print(Enemies.species)"
      ],
      "metadata": {
        "colab": {
          "base_uri": "https://localhost:8080/"
        },
        "id": "tgcQka0AUt0w",
        "outputId": "d1fc9828-970a-499f-9dcf-715ecc028c64"
      },
      "execution_count": null,
      "outputs": [
        {
          "output_type": "stream",
          "name": "stdout",
          "text": [
            "Renoir\n",
            "108\n",
            "Humans\n",
            "Nevron\n"
          ]
        }
      ]
    },
    {
      "cell_type": "markdown",
      "source": [
        "# **Python Inheritance**\n",
        "Inheritance allows a class (child class) to acquire properties and methods of another class (parent class). It supports hierarchical classification and promotes code reuse.\n",
        "\n",
        "# **Types of Inheritance:**\n",
        "Single Inheritance: A child class inherits from a single parent class.\n",
        "Multiple Inheritance: A child class inherits from more than one parent class.\n",
        "Multilevel Inheritance: A child class inherits from a parent class, which in turn inherits from another class.\n",
        "Hierarchical Inheritance: Multiple child classes inherit from a single parent class.\n",
        "Hybrid Inheritance: A combination of two or more types of inheritance."
      ],
      "metadata": {
        "id": "tr6zdRYHVjMf"
      }
    },
    {
      "cell_type": "code",
      "source": [
        "bubuv2.display_name()"
      ],
      "metadata": {
        "colab": {
          "base_uri": "https://localhost:8080/"
        },
        "id": "eMoBLCw0V_2Y",
        "outputId": "4ab2797a-62e4-4e05-c959-16a0ea2bbaea"
      },
      "execution_count": null,
      "outputs": [
        {
          "output_type": "stream",
          "name": "stdout",
          "text": [
            "Enemies name is Renoir\n"
          ]
        }
      ]
    },
    {
      "cell_type": "code",
      "source": [
        "class Boss(Enemies): # SINGLE INH\n",
        "  def life(self):\n",
        "    print(f\"Life of {self.name} is around 8 million HP\")"
      ],
      "metadata": {
        "id": "Qsh1FGloWr0W"
      },
      "execution_count": null,
      "outputs": []
    },
    {
      "cell_type": "code",
      "source": [
        "class PoweringBoss(Boss): # MULTIPLE INH\n",
        "  def power(self):\n",
        "    print(f\"damage dealt by this {self.name}is 2 million HP\")"
      ],
      "metadata": {
        "id": "ckNon86AXLNV"
      },
      "execution_count": null,
      "outputs": []
    },
    {
      "cell_type": "code",
      "source": [
        "class Behavior :\n",
        "   def greet(self):\n",
        "    print(\"Friendly\")\n",
        "\n",
        "class Maelle(Boss, Behavior,PoweringBoss): # MULTILEVEL INH\n",
        "  def skills(self):\n",
        "    print(\"Her most prominent skill is FLeuret Fury and Stendhal\")\n"
      ],
      "metadata": {
        "id": "Obz-t9AsXinH"
      },
      "execution_count": null,
      "outputs": []
    },
    {
      "cell_type": "code",
      "source": [
        "Renoir = Boss(\"Renoir\", 108)\n",
        "Renoir.life()"
      ],
      "metadata": {
        "colab": {
          "base_uri": "https://localhost:8080/"
        },
        "id": "rvUiAqkJYdo-",
        "outputId": "6c43ecee-19ca-40b9-be9e-543716786616"
      },
      "execution_count": null,
      "outputs": [
        {
          "output_type": "stream",
          "name": "stdout",
          "text": [
            "Life of Renoir is around 8 million HP\n"
          ]
        }
      ]
    },
    {
      "cell_type": "code",
      "source": [
        "lancelier = PoweringBoss(\"Lancelier\", 108)\n",
        "lancelier.power()\n",
        "lancelier.life()\n",
        "lancelier.display_name()\n"
      ],
      "metadata": {
        "colab": {
          "base_uri": "https://localhost:8080/"
        },
        "id": "8zCV9M-JY3he",
        "outputId": "7ac4395c-3c72-4179-a98e-b42d2cc3c48c"
      },
      "execution_count": null,
      "outputs": [
        {
          "output_type": "stream",
          "name": "stdout",
          "text": [
            "damage dealt by this Lancelieris 2 million HP\n",
            "Life of Lancelier is around 8 million HP\n",
            "Enemies name is Lancelier\n"
          ]
        }
      ]
    },
    {
      "cell_type": "code",
      "source": [
        "real_maelle  = Maelle(\"Alicia\", 21)\n",
        "print(\"Generating Enemies Biodata.................\")\n",
        "real_maelle.display_name()\n",
        "real_maelle.age\n",
        "real_maelle.greet()\n",
        "real_maelle.skills()\n",
        "real_maelle.life()\n",
        "real_maelle.power()"
      ],
      "metadata": {
        "colab": {
          "base_uri": "https://localhost:8080/"
        },
        "id": "6fGHX5h5Z7xe",
        "outputId": "d2939f49-44a4-4e12-cb1a-b7b28fba4405"
      },
      "execution_count": null,
      "outputs": [
        {
          "output_type": "stream",
          "name": "stdout",
          "text": [
            "Generating Enemies Biodata.................\n",
            "Enemies name is Alicia\n",
            "Friendly\n",
            "Her most prominent skill is FLeuret Fury and Stendhal\n",
            "Life of Alicia is around 8 million HP\n",
            "damage dealt is 2 million HP\n"
          ]
        }
      ]
    },
    {
      "cell_type": "markdown",
      "source": [
        "# **Python Polymorphism**\n",
        "Polymorphism allows methods to have the same name but behave differently based on the object's context. It can be achieved through method overriding or overloading.\n",
        "\n",
        "Types of Polymorphism\n",
        "Compile-Time Polymorphism: This type of polymorphism is determined during the compilation of the program. It allows methods or operators with the same name to behave differently based on their input parameters or usage. It is commonly referred to as method or operator overloading.\n",
        "Run-Time Polymorphism: This type of polymorphism is determined during the execution of the program. It occurs when a subclass provides a specific implementation for a method already defined in its parent class, commonly known as method overriding."
      ],
      "metadata": {
        "id": "ptYFccaH9YQt"
      }
    },
    {
      "cell_type": "code",
      "source": [
        "class Heroes :\n",
        "\n",
        "  def __init__(self,name):\n",
        "     self.name = name\n",
        "  def maxlevel(self):\n",
        "       print(f\"Max level of {self.name} is 120\")"
      ],
      "metadata": {
        "id": "4PL-n0Z59KMO"
      },
      "execution_count": 15,
      "outputs": []
    },
    {
      "cell_type": "code",
      "source": [
        "class characters(Heroes): # method overriding\n",
        "  def maxlevel(self):\n",
        "    print(f\"Max level of {self.name} is 96\")"
      ],
      "metadata": {
        "id": "HaPb0tET-f1c"
      },
      "execution_count": 16,
      "outputs": []
    },
    {
      "cell_type": "code",
      "source": [
        "# Compile-Time Polymorphism\n",
        "class Calculator(Heroes):\n",
        "    def add(self, x, y,z = 0):\n",
        "        return x + y + z\n",
        "\n",
        "    def multiply(self, x, y,z=0):\n",
        "        return x * y*z"
      ],
      "metadata": {
        "id": "6te9WWa8-1iu"
      },
      "execution_count": 23,
      "outputs": []
    },
    {
      "cell_type": "code",
      "source": [
        "random = [Heroes(\"Verso\"),characters(\"Lune\")] # Run-time polymorphism"
      ],
      "metadata": {
        "id": "aAZOwNsL_foE"
      },
      "execution_count": 21,
      "outputs": []
    },
    {
      "cell_type": "code",
      "source": [
        "for rand in random:\n",
        "  print(rand.maxlevel())"
      ],
      "metadata": {
        "colab": {
          "base_uri": "https://localhost:8080/"
        },
        "id": "hjR3W6r9A3gF",
        "outputId": "2aa30298-d776-415c-cf52-249bc900b442"
      },
      "execution_count": 22,
      "outputs": [
        {
          "output_type": "stream",
          "name": "stdout",
          "text": [
            "Max level of Verso is 120\n",
            "None\n",
            "Max level of Lune is 96\n",
            "None\n"
          ]
        }
      ]
    },
    {
      "cell_type": "code",
      "source": [
        "calc = Calculator(\"Maelle\")\n",
        "print(calc.add(1,2))\n",
        "print(calc.multiply(1,2))"
      ],
      "metadata": {
        "colab": {
          "base_uri": "https://localhost:8080/"
        },
        "id": "cw-bJInfCRZ8",
        "outputId": "f245acf8-4fbd-4350-d106-e10983c47bb9"
      },
      "execution_count": 25,
      "outputs": [
        {
          "output_type": "stream",
          "name": "stdout",
          "text": [
            "3\n",
            "0\n"
          ]
        }
      ]
    },
    {
      "cell_type": "markdown",
      "source": [],
      "metadata": {
        "id": "TDrmgsX2YbLF"
      }
    }
  ]
}